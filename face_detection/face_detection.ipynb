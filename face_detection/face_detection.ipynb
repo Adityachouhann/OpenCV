{
 "cells": [
  {
   "cell_type": "code",
   "execution_count": 13,
   "id": "b92eabbe-181e-4edc-8c72-8d3b6ceb3f02",
   "metadata": {},
   "outputs": [],
   "source": [
    "import cv2"
   ]
  },
  {
   "cell_type": "code",
   "execution_count": 15,
   "id": "4c54cf73-11eb-49c3-9ed8-94b3635ed684",
   "metadata": {},
   "outputs": [],
   "source": [
    "#!pip install --upgrade opencv-contrib-python"
   ]
  },
  {
   "cell_type": "code",
   "execution_count": 17,
   "id": "97afc50b-ce72-479d-aed7-2bdda344d9d1",
   "metadata": {},
   "outputs": [],
   "source": [
    "import cv2\n",
    "\n",
    "face_cascade=cv2.CascadeClassifier('haarcascade_frontalface_default.xml')"
   ]
  },
  {
   "cell_type": "code",
   "execution_count": 19,
   "id": "1cb9fe8b-96cc-4094-a3f9-6ab859fd4571",
   "metadata": {},
   "outputs": [
    {
     "data": {
      "text/plain": [
       "array([[[51, 47, 59],\n",
       "        [51, 47, 59],\n",
       "        [51, 47, 59],\n",
       "        ...,\n",
       "        [11, 17, 12],\n",
       "        [11, 18, 13],\n",
       "        [12, 19, 14]],\n",
       "\n",
       "       [[51, 47, 59],\n",
       "        [51, 47, 59],\n",
       "        [51, 47, 59],\n",
       "        ...,\n",
       "        [14, 20, 15],\n",
       "        [14, 21, 16],\n",
       "        [16, 23, 18]],\n",
       "\n",
       "       [[51, 47, 59],\n",
       "        [51, 47, 59],\n",
       "        [51, 47, 59],\n",
       "        ...,\n",
       "        [19, 25, 20],\n",
       "        [20, 27, 22],\n",
       "        [22, 29, 24]],\n",
       "\n",
       "       ...,\n",
       "\n",
       "       [[19, 10,  7],\n",
       "        [18,  9,  6],\n",
       "        [17,  8,  5],\n",
       "        ...,\n",
       "        [45, 37,  7],\n",
       "        [42, 37,  6],\n",
       "        [42, 37,  6]],\n",
       "\n",
       "       [[19,  9,  9],\n",
       "        [19,  9,  9],\n",
       "        [17,  8,  5],\n",
       "        ...,\n",
       "        [44, 36,  6],\n",
       "        [41, 36,  5],\n",
       "        [41, 36,  5]],\n",
       "\n",
       "       [[19,  9,  9],\n",
       "        [19,  9,  9],\n",
       "        [17,  8,  5],\n",
       "        ...,\n",
       "        [43, 35,  5],\n",
       "        [40, 35,  4],\n",
       "        [40, 35,  4]]], dtype=uint8)"
      ]
     },
     "execution_count": 19,
     "metadata": {},
     "output_type": "execute_result"
    }
   ],
   "source": [
    "image=cv2.imread(r'C:\\Users\\ajcho\\OneDrive\\Desktop\\full stack data science and AI\\BY SELF\\OPEN-CV\\face_detection\\my_pic.jpeg',cv2.COLOR_BGR2GRAY)\n",
    "image"
   ]
  },
  {
   "cell_type": "code",
   "execution_count": 21,
   "id": "64423c45-5a99-414d-99f2-de02ab2e91bc",
   "metadata": {},
   "outputs": [],
   "source": [
    "cv2.imshow('Image',image)\n",
    "cv2.waitKey(0)\n",
    "cv2.destroyAllWindows()"
   ]
  },
  {
   "cell_type": "markdown",
   "id": "c7f793a2-057b-414d-b264-b24a2dc84f51",
   "metadata": {},
   "source": [
    "rectange_image"
   ]
  },
  {
   "cell_type": "code",
   "execution_count": 24,
   "id": "504db375-b26b-4bf3-bafc-64d3016c0898",
   "metadata": {},
   "outputs": [],
   "source": [
    "image=cv2.imread(r'C:\\Users\\ajcho\\OneDrive\\Desktop\\full stack data science and AI\\BY SELF\\OPEN-CV\\face_detection\\my_pic.jpeg',cv2.COLOR_BGR2GRAY)\n",
    "start_window=(5,5)\n",
    "end_window=(200,200)\n",
    "color=(0,0,255)\n",
    "thickness=5\n",
    "rec_image=cv2.rectangle(image,start_window,end_window,color,thickness)\n",
    "cv2.imshow('Image',image)\n",
    "cv2.waitKey(0)\n",
    "cv2.destroyAllWindows()"
   ]
  },
  {
   "cell_type": "code",
   "execution_count": null,
   "id": "3945b8ca-c088-4efe-8a52-805f64cf67b0",
   "metadata": {},
   "outputs": [],
   "source": [
    "image=cv2.imread(r'C:\\Users\\ajcho\\OneDrive\\Desktop\\full stack data science and AI\\BY SELF\\OPEN-CV\\face_detection\\my_pic.jpeg',cv2.COLOR_BGR2GRAY)\n",
    "face_cascade=cv2.CascadeClassifier('haarcascade_frontalface_default.xml')\n",
    "faces=face_cascade.detectMultiScale(image,1.1,4)\n",
    "print(faces)\n",
    "for(x,y,w,h) in faces:\n",
    "    print(x,y)\n",
    "    print(w,h)\n",
    "    cv2.rectangle(image,(x,y),(x+w,y+h),(0,0,255),3)\n",
    "cv2.imshow('Image',image)\n",
    "cv2.waitKey(0)\n",
    "cv2.destroyAllWindows()"
   ]
  },
  {
   "cell_type": "markdown",
   "id": "5f67f876-a8ad-4f23-8216-1900af05af46",
   "metadata": {},
   "source": [
    "Video"
   ]
  },
  {
   "cell_type": "code",
   "execution_count": 26,
   "id": "3f4a4734-fbc7-4084-9237-3fd195cf5b07",
   "metadata": {},
   "outputs": [],
   "source": [
    "cam=cv2.VideoCapture(0)\n",
    "while cam.isOpened():\n",
    "    has_frame,frame=cam.read()\n",
    "    img=cv2.cvtColor(frame,cv2.COLOR_BGR2GRAY)\n",
    "    faces=face_cascade.detectMultiScale(img,1.1,4)\n",
    "    for (x,y,w,h) in faces:\n",
    "        cv2.rectangle(img,(x,y),(x+h,y+w),(255,0,0),3)\n",
    "    cv2.imshow('Image',img)\n",
    "    if cv2.waitKey(1)&0xFF==ord(\"q\"):\n",
    "        break\n",
    "cam.release()\n",
    "cv2.destroyAllWindows()"
   ]
  },
  {
   "cell_type": "code",
   "execution_count": null,
   "id": "6561ccb6-bf53-43c7-a818-bf5f352dc60f",
   "metadata": {},
   "outputs": [],
   "source": []
  },
  {
   "cell_type": "markdown",
   "id": "51c1c692-824f-498a-a764-22bf4ab8acb1",
   "metadata": {},
   "source": [
    "With eyeball"
   ]
  },
  {
   "cell_type": "code",
   "execution_count": 34,
   "id": "a6a42132-bc09-478e-9d96-7314cf54a510",
   "metadata": {},
   "outputs": [],
   "source": [
    "eye_cascade=cv2.CascadeClassifier('haarcascade_eye.xml')\n",
    "face_cascade=cv2.CascadeClassifier('haarcascade_frontalface_default.xml')\n",
    "cam=cv2.VideoCapture(0)\n",
    "while True:\n",
    "    has_frame,frame=cam.read()\n",
    "    gray=cv2.cvtColor(frame,cv2.COLOR_BGR2GRAY)\n",
    "    faces=face_cascade.detectMultiScale(gray,1.3,5)\n",
    "    for (x,y,w,h) in faces:\n",
    "        cv2.rectangle(frame,(x,y),(x+w,y+h),(255,0,0),2)\n",
    "        roi_gray=gray[y:y+h,x:x+w] \n",
    "        roi_color=frame[y:y+h,x:x+w]\n",
    "        eyes=eye_cascade.detectMultiScale(roi_gray)\n",
    "        for (e_x,e_y,e_w,e_h) in eyes:\n",
    "            cv2.rectangle(roi_color,(e_x,e_y),(e_x+e_w,e_y+e_h),(0,255,0),2)\n",
    "    cv2.imshow('img',frame)\n",
    "    if cv2.waitKey(1) & 0xFF==ord('q'):\n",
    "        break\n",
    "cam.release()\n",
    "cv2.destroyAllWindows()"
   ]
  },
  {
   "cell_type": "code",
   "execution_count": null,
   "id": "cdab0786-9003-43d0-8847-e18b79f907a3",
   "metadata": {},
   "outputs": [],
   "source": []
  }
 ],
 "metadata": {
  "kernelspec": {
   "display_name": "Python [conda env:anaconda1]",
   "language": "python",
   "name": "conda-env-anaconda1-py"
  },
  "language_info": {
   "codemirror_mode": {
    "name": "ipython",
    "version": 3
   },
   "file_extension": ".py",
   "mimetype": "text/x-python",
   "name": "python",
   "nbconvert_exporter": "python",
   "pygments_lexer": "ipython3",
   "version": "3.12.8"
  }
 },
 "nbformat": 4,
 "nbformat_minor": 5
}
