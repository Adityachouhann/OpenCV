{
 "cells": [
  {
   "cell_type": "code",
   "execution_count": 24,
   "id": "ee6a0550-0551-479d-8bbf-17f93b5336d5",
   "metadata": {},
   "outputs": [],
   "source": [
    "# import the packages\n",
    "import cv2\n",
    "\n",
    "# load haarcascade\n",
    "plate_cascade=cv2.CascadeClassifier('haarcascade_russian_plate_number.xml')\n",
    "\n",
    "# video path\n",
    "video_path=r\"C:\\Users\\ajcho\\OneDrive\\Desktop\\full stack data science and AI\\BY SELF\\OPEN-CV\\number_plate_detection\\Vehicle Number Plate Recognition.mp4\"\n",
    "cap=cv2.VideoCapture(video_path)\n",
    "\n",
    "# detect number plates\n",
    "while True:\n",
    "    has_frame,frame=cap.read()\n",
    "    gray=cv2.cvtColor(frame,cv2.COLOR_BGR2GRAY)\n",
    "    plates=plate_cascade.detectMultiScale(gray,1.3,5)\n",
    "    for (x,y,w,h) in plates:\n",
    "        cv2.rectangle(frame,(x, y),(x+w,y+h),(255,0,0),2)\n",
    "        roi_gray=gray[y:y+h,x:x+w]\n",
    "        roi_color=frame[y:y+h,x:x+w]\n",
    "# show the frame\n",
    "    cv2.imshow('Number Plate Detection',frame)\n",
    "    if cv2.waitKey(1) & 0xFF==ord('q'):\n",
    "        break\n",
    "cap.release()\n",
    "cv2.destroyAllWindows()\n"
   ]
  },
  {
   "cell_type": "code",
   "execution_count": null,
   "id": "3101f92a-8ce5-4b3e-bfe2-4d745764ef25",
   "metadata": {},
   "outputs": [],
   "source": []
  }
 ],
 "metadata": {
  "kernelspec": {
   "display_name": "Python [conda env:anaconda1]",
   "language": "python",
   "name": "conda-env-anaconda1-py"
  },
  "language_info": {
   "codemirror_mode": {
    "name": "ipython",
    "version": 3
   },
   "file_extension": ".py",
   "mimetype": "text/x-python",
   "name": "python",
   "nbconvert_exporter": "python",
   "pygments_lexer": "ipython3",
   "version": "3.12.8"
  }
 },
 "nbformat": 4,
 "nbformat_minor": 5
}
